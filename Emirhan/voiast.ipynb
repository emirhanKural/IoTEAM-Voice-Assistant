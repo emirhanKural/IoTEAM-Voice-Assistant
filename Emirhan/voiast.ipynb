{
 "cells": [
  {
   "cell_type": "code",
   "execution_count": 8,
   "metadata": {},
   "outputs": [],
   "source": [
    "from __future__ import print_function\n",
    "import datetime\n",
    "import pickle\n",
    "import os.path\n",
    "from googleapiclient.discovery import build\n",
    "from google_auth_oauthlib.flow import InstalledAppFlow\n",
    "from google.auth.transport.requests import Request\n",
    "\n",
    "import os\n",
    "import time\n",
    "\n",
    "import speech_recognition as sr\n",
    "import pyttsx3 #yeni speakerımız\n",
    "import pytz\n",
    "import subprocess\n",
    "import cv2 "
   ]
  },
  {
   "cell_type": "code",
   "execution_count": 10,
   "metadata": {},
   "outputs": [],
   "source": [
    "#gtts.lang.tts_langs() dillerin listesi\n",
    "def speak(text):\n",
    "    engine = pyttsx3.init()\n",
    "    voices = engine.getProperty('voices')\n",
    "    engine.setProperty(\"voice\", voices[2].id) \n",
    "    engine.setProperty('rate', 150) \n",
    "    engine.say(text)\n",
    "    engine.runAndWait()"
   ]
  },
  {
   "cell_type": "code",
   "execution_count": 11,
   "metadata": {},
   "outputs": [],
   "source": [
    "speak(\"merhaba, ben Tolga\")"
   ]
  },
  {
   "cell_type": "code",
   "execution_count": 12,
   "metadata": {},
   "outputs": [],
   "source": [
    "def get_audio():\n",
    "    r = sr.Recognizer()\n",
    "    \n",
    "    while True:\n",
    "        try: \n",
    "            with sr.Microphone() as source:\n",
    "                audio = r.listen(source)\n",
    "                said = \"\"\n",
    "                said = r.recognize_google(audio,language = \"tr-TR\") ##google api ile ne söylendiğini anlamlandırıyoruz. \"tr-TR\"\n",
    "                print(said)\n",
    "                break\n",
    "        except Exception as e:\n",
    "            print(\"Emir Bekliyor: \",str(e))\n",
    "            \n",
    "    return said.lower()  \n",
    "\n",
    "# def get_audio():\n",
    "#     r = sr.Recognizer()\n",
    "    \n",
    "#     while True:\n",
    "#         try: \n",
    "#             with sr.Microphone() as source:\n",
    "#                 audio = r.listen(source)\n",
    "#                 said = \"\"\n",
    "#                 said = r.recognize_google(audio,language = \"tr-TR\") ##google api ile ne söylendiğini anlamlandırıyoruz. \"tr-TR\"\n",
    "#                 print(said)\n",
    "#                 break\n",
    "#         except Exception as e:\n",
    "#             pass\n",
    "            \n",
    "#     return said.lower()     "
   ]
  },
  {
   "cell_type": "code",
   "execution_count": 13,
   "metadata": {},
   "outputs": [],
   "source": [
    "def note(text):\n",
    "    date = datetime.datetime.now()\n",
    "    file_name = str(date).replace(\":\",\"-\") + \"-note.txt\"\n",
    "    with open(file_name, \"w\") as f:\n",
    "        f.write(text)\n",
    "    subprocess.Popen([\"notepad.exe\",file_name]) #uygulamaları açmak için subprocess"
   ]
  },
  {
   "cell_type": "code",
   "execution_count": 14,
   "metadata": {},
   "outputs": [],
   "source": [
    "def photo():\n",
    "    photo = cv2.VideoCapture(0)\n",
    "    ret, frame = photo.read() \n",
    "    cv2.imwrite('frame.jpg', frame) \n",
    "    photo.release()"
   ]
  },
  {
   "cell_type": "code",
   "execution_count": 16,
   "metadata": {},
   "outputs": [
    {
     "name": "stdout",
     "output_type": "stream",
     "text": [
      "Start\n",
      "Dinliyorum\n",
      "uyan\n",
      "Emir Bekliyor:  \n",
      "resim resim çek resim çek\n",
      "Dinliyorum\n",
      "yeterli\n"
     ]
    }
   ],
   "source": [
    "WAKE = \"uyan\"\n",
    "STOP = \"yeterli\"\n",
    "print(\"Start\")\n",
    "\n",
    "while True:\n",
    "    print(\"Dinliyorum\")\n",
    "    text = get_audio()\n",
    "    if text.count(STOP) >0:\n",
    "        speak(\"Görüşmek üzere efendim\")\n",
    "        break\n",
    "\n",
    "    if text.count(WAKE) > 0:\n",
    "        speak(\"Sizi dinliyorum efendim\")\n",
    "        text = get_audio()\n",
    "        NOTE_STRS = [\"bir not yaz\", \"not defteri\", \"bunu hatırla\", \"yazı yaz\",\"not yaz\"]\n",
    "        for phrase in NOTE_STRS:\n",
    "            if phrase in text:\n",
    "                speak(\"Ne yazmak istersiniz efendim? \")\n",
    "                note_text = get_audio()\n",
    "                note(note_text)\n",
    "                speak(\"Söylediklerinizi not aldım efendim.\")\n",
    "                break\n",
    "        \n",
    "        PHOTO_STRS = [\"foto çek\",\"resim çek\",\"resimli\"]\n",
    "        for phrase in PHOTO_STRS:\n",
    "            if phrase in text:\n",
    "                speak(\"Resmi Çekiyorum Efendim\")\n",
    "                photo()\n",
    "                speak(\"Resmi Çektim Efendim\")\n",
    "                break"
   ]
  },
  {
   "cell_type": "code",
   "execution_count": null,
   "metadata": {},
   "outputs": [],
   "source": []
  },
  {
   "cell_type": "code",
   "execution_count": null,
   "metadata": {},
   "outputs": [],
   "source": []
  },
  {
   "cell_type": "code",
   "execution_count": null,
   "metadata": {},
   "outputs": [],
   "source": []
  }
 ],
 "metadata": {
  "kernelspec": {
   "display_name": "myenv",
   "language": "python",
   "name": "myenv"
  },
  "language_info": {
   "codemirror_mode": {
    "name": "ipython",
    "version": 3
   },
   "file_extension": ".py",
   "mimetype": "text/x-python",
   "name": "python",
   "nbconvert_exporter": "python",
   "pygments_lexer": "ipython3",
   "version": "3.7.6"
  }
 },
 "nbformat": 4,
 "nbformat_minor": 4
}
